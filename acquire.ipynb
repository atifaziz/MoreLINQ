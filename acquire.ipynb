{
 "cells": [
  {
   "cell_type": "markdown",
   "metadata": {},
   "source": [
    "# Acquire\n",
    "\n",
    "Ensures that a sequence of _disposable_ objects, those implementing\n",
    "[`IDisposable`][disposable]), are all acquired successfully. If the\n",
    "acquisition of any one fails then those successfully acquired till that\n",
    "point are disposed.\n",
    "\n",
    "Following [answer][a] by [Sergey Berezovskiy][sb] to the [StackOverflow]\n",
    "question, \"[MoreLinq Acquire. What does it do?][q]\", offers a great\n",
    "explanation:\n",
    "\n",
    "> Assume you have code which creates and returns disposable objects one by one:\n",
    ">\n",
    "> ```c#\n",
    "> public IEnumerable<FileStream> GetFiles()\n",
    "> {\n",
    ">     yield return File.OpenRead(\"file1\");\n",
    ">     yield return File.OpenRead(\"file2\"); // does not exist\n",
    ">     yield return File.OpenRead(\"file3\");\n",
    "> }\n",
    "> ```\n",
    ">\n",
    "> You need to get all of the disposable objects, but if in the middle of\n",
    "> acquisition there is an exception, then the objects which were already yielded\n",
    "> will stay in memory and not disposed. So, `Acquire` either acquires all\n",
    "> streams and returns them, or, upon failing, it disposes all already acquired\n",
    "> streams and rethrows the exception.\n",
    ">\n",
    "> ```c#\n",
    "> var streams = GetFiles().Acquire();\n",
    "> ```\n",
    "\n",
    "The following example shows a function lazily yielding resources (objects\n",
    "implementing `IDisposable`) that are later acquired and disposed in a loop.\n",
    "\n",
    "[sb]: https://stackoverflow.com/users/470005/sergey-berezovskiy\n",
    "[StackOverflow]: https://stackoverflow.com/\n",
    "[q]: https://stackoverflow.com/questions/21483023/morelinq-acquire-what-does-it-do\n",
    "[a]: https://stackoverflow.com/a/21483151/6682\n",
    "[disposable]: https://docs.microsoft.com/en-us/dotnet/api/system.idisposable"
   ]
  },
  {
   "cell_type": "code",
   "execution_count": 4,
   "metadata": {
    "dotnet_interactive": {
     "language": "csharp"
    },
    "polyglot_notebook": {
     "kernelName": "csharp"
    },
    "vscode": {
     "languageId": "polyglot-notebook"
    }
   },
   "outputs": [
    {
     "data": {
      "text/html": [
       "<div><div></div><div></div><div><strong>Installed Packages</strong><ul><li><span>Delegating, 1.3.1</span></li><li><span>morelinq, 4.0.0</span></li></ul></div></div>"
      ]
     },
     "metadata": {},
     "output_type": "display_data"
    },
    {
     "name": "stdout",
     "output_type": "stream",
     "text": [
      "Yielding resource #1\n",
      "Yielding resource #2\n",
      "Yielding resource #3\n",
      "Disposing resource #1\n",
      "Resource #1 disposed\n",
      "Disposing resource #2\n",
      "Resource #2 disposed\n",
      "Disposing resource #3\n",
      "Resource #3 disposed\n"
     ]
    }
   ],
   "source": [
    "#r \"nuget: morelinq, 4.0.0\"\n",
    "#r \"nuget: Delegating, 1.3.1\"\n",
    "\n",
    "using MoreLinq;\n",
    "using static System.Console;\n",
    "using static Delegating.Delegate;\n",
    "\n",
    "static IEnumerable<IDisposable> GetResources()\n",
    "{\n",
    "    WriteLine(\"Yielding resource #1\");\n",
    "    yield return Disposable(() => WriteLine(\"Resource #1 disposed\"));\n",
    "    WriteLine(\"Yielding resource #2\");\n",
    "    yield return Disposable(() => WriteLine(\"Resource #2 disposed\"));\n",
    "    WriteLine(\"Yielding resource #3\");\n",
    "    yield return Disposable(() => WriteLine(\"Resource #3 disposed\"));\n",
    "}\n",
    "\n",
    "var i = 0;\n",
    "foreach (var r in GetResources().Acquire())\n",
    "{\n",
    "    i++;\n",
    "    using (r)\n",
    "        WriteLine($\"Disposing resource #{i}\");\n",
    "}"
   ]
  },
  {
   "cell_type": "markdown",
   "metadata": {},
   "source": [
    "The `GetResources` function uses `Disposable` from the [Delegating] library to\n",
    "create ad-hoc implementations.\n",
    "\n",
    "  [Delegating]: https://github.com/atifaziz/Delegating\n",
    "\n",
    "Note how all the resources were acquired _eagerly_ at the start of the loop.\n",
    "\n",
    "Suppose now `GetResources` is modified to simulate an error in the generation\n",
    "of the third resource:"
   ]
  },
  {
   "cell_type": "code",
   "execution_count": 5,
   "metadata": {
    "dotnet_interactive": {
     "language": "csharp"
    },
    "polyglot_notebook": {
     "kernelName": "csharp"
    },
    "vscode": {
     "languageId": "polyglot-notebook"
    }
   },
   "outputs": [
    {
     "name": "stdout",
     "output_type": "stream",
     "text": [
      "Yielding resource #1\n",
      "Yielding resource #2\n",
      "Yielding resource #3\n",
      "Resource #1 disposed\n",
      "Resource #2 disposed\n",
      "ERROR! Error in the application.\n"
     ]
    }
   ],
   "source": [
    "static IEnumerable<IDisposable> GetResources()\n",
    "{\n",
    "    WriteLine(\"Yielding resource #1\");\n",
    "    yield return Disposable(() => WriteLine(\"Resource #1 disposed\"));\n",
    "    WriteLine(\"Yielding resource #2\");\n",
    "    yield return Disposable(() => WriteLine(\"Resource #2 disposed\"));\n",
    "    WriteLine(\"Yielding resource #3\");\n",
    "    throw new ApplicationException(); // Oops!\n",
    "#pragma warning disable CS0162 // Unreachable code detected\n",
    "    yield return Disposable(() => WriteLine(\"Resource #3 disposed\"));\n",
    "#pragma warning restore CS0162 // Unreachable code detected    \n",
    "}\n",
    "\n",
    "try\n",
    "{\n",
    "    var i = 0;\n",
    "    foreach (var r in GetResources().Acquire())\n",
    "    {\n",
    "        i++;\n",
    "        using (r)\n",
    "            WriteLine($\"Disposing resource #{i}\");\n",
    "    }\n",
    "}\n",
    "catch (Exception e)\n",
    "{\n",
    "    WriteLine(\"ERROR! \" + e.Message);\n",
    "}"
   ]
  },
  {
   "cell_type": "markdown",
   "metadata": {},
   "source": [
    "Since not all resouces could be acquired successfully, because an error occurs\n",
    "when the third resource is about to be yielded, `Acquire` disposes the first\n",
    "two resources that were acquired successfully up to when the error occurs and\n",
    "propagates up the stack. Since the loop is never entered, it would not have\n",
    "had a chance to dispose the resources. Without `Acquire`, the resources would\n",
    "have leaked.\n",
    "\n",
    "For more details, [see the documentation][doc].\n",
    "\n",
    "\n",
    "[doc]: https://morelinq.github.io/3.1/ref/api/html/M_MoreLinq_MoreEnumerable_Acquire__1.htm"
   ]
  }
 ],
 "metadata": {
  "language_info": {
   "name": "csharp"
  }
 },
 "nbformat": 4,
 "nbformat_minor": 2
}
