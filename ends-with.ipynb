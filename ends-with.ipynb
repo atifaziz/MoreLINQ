{
 "cells": [
  {
   "cell_type": "markdown",
   "metadata": {},
   "source": [
    "# EndsWith\n",
    "\n",
    "Determines whether the end of the first sequence is equivalent to the second\n",
    "sequence.\n",
    "\n",
    "The following example checks whether the [segments] of a URL's path component\n",
    "end with a particular sequence or not:\n",
    "\n",
    "\n",
    "[segments]: https://docs.microsoft.com/en-us/dotnet/api/system.uri.segments"
   ]
  },
  {
   "cell_type": "code",
   "execution_count": 1,
   "metadata": {
    "dotnet_interactive": {
     "language": "csharp"
    },
    "polyglot_notebook": {
     "kernelName": "csharp"
    },
    "vscode": {
     "languageId": "polyglot-notebook"
    }
   },
   "outputs": [
    {
     "data": {
      "text/html": [
       "<div><div></div><div></div><div><strong>Installed Packages</strong><ul><li><span>morelinq, 4.0.0</span></li></ul></div></div>"
      ]
     },
     "metadata": {},
     "output_type": "display_data"
    },
    {
     "name": "stdout",
     "output_type": "stream",
     "text": [
      "True\n",
      "False\n"
     ]
    }
   ],
   "source": [
    "#r \"nuget: morelinq, 4.0.0\"\n",
    "\n",
    "using MoreLinq;\n",
    "using static System.Console;\n",
    "\n",
    "var tail = new[] { \"foo/\", \"bar/\" };\n",
    "\n",
    "var url1 = new Uri(\"http://example.com/foo/bar/\");\n",
    "WriteLine(url1.Segments.EndsWith(tail)); // True\n",
    "\n",
    "var url2 = new Uri(\"http://example.com/foo/bar/baz/\");\n",
    "WriteLine(url2.Segments.EndsWith(tail)); // False"
   ]
  },
  {
   "cell_type": "markdown",
   "metadata": {},
   "source": [
    "The same example as above is expressed as a single query expression below:"
   ]
  },
  {
   "cell_type": "code",
   "execution_count": 2,
   "metadata": {
    "dotnet_interactive": {
     "language": "csharp"
    },
    "polyglot_notebook": {
     "kernelName": "csharp"
    },
    "vscode": {
     "languageId": "polyglot-notebook"
    }
   },
   "outputs": [
    {
     "data": {
      "text/html": [
       "<table><thead><tr><th><i>index</i></th><th>value</th></tr></thead><tbody><tr><td>0</td><td><details class=\"dni-treeview\"><summary><span class=\"dni-code-hint\"><code>{ Url = http://example.com/foo/bar/, EndsWithFooBar = True }</code></span></summary><div><table><thead><tr></tr></thead><tbody><tr><td>Url</td><td><details class=\"dni-treeview\"><summary><span class=\"dni-code-hint\"><code>http://example.com/foo/bar/</code></span></summary><div><table><thead><tr></tr></thead><tbody><tr><td>AbsolutePath</td><td><div class=\"dni-plaintext\"><pre>/foo/bar/</pre></div></td></tr><tr><td>AbsoluteUri</td><td><div class=\"dni-plaintext\"><pre>http://example.com/foo/bar/</pre></div></td></tr><tr><td>LocalPath</td><td><div class=\"dni-plaintext\"><pre>/foo/bar/</pre></div></td></tr><tr><td>Authority</td><td><div class=\"dni-plaintext\"><pre>example.com</pre></div></td></tr><tr><td>HostNameType</td><td><span>Dns</span></td></tr><tr><td>IsDefaultPort</td><td><div class=\"dni-plaintext\"><pre>True</pre></div></td></tr><tr><td>IsFile</td><td><div class=\"dni-plaintext\"><pre>False</pre></div></td></tr><tr><td>IsLoopback</td><td><div class=\"dni-plaintext\"><pre>False</pre></div></td></tr><tr><td>PathAndQuery</td><td><div class=\"dni-plaintext\"><pre>/foo/bar/</pre></div></td></tr><tr><td>Segments</td><td><div class=\"dni-plaintext\"><pre>[ /, foo/, bar/ ]</pre></div></td></tr><tr><td>IsUnc</td><td><div class=\"dni-plaintext\"><pre>False</pre></div></td></tr><tr><td>Host</td><td><div class=\"dni-plaintext\"><pre>example.com</pre></div></td></tr><tr><td>Port</td><td><div class=\"dni-plaintext\"><pre>80</pre></div></td></tr><tr><td>Query</td><td><div class=\"dni-plaintext\"><pre></pre></div></td></tr><tr><td>Fragment</td><td><div class=\"dni-plaintext\"><pre></pre></div></td></tr><tr><td>Scheme</td><td><div class=\"dni-plaintext\"><pre>http</pre></div></td></tr><tr><td>OriginalString</td><td><div class=\"dni-plaintext\"><pre>http://example.com/foo/bar/</pre></div></td></tr><tr><td>DnsSafeHost</td><td><div class=\"dni-plaintext\"><pre>example.com</pre></div></td></tr><tr><td>IdnHost</td><td><div class=\"dni-plaintext\"><pre>example.com</pre></div></td></tr><tr><td>IsAbsoluteUri</td><td><div class=\"dni-plaintext\"><pre>True</pre></div></td></tr><tr><td>UserEscaped</td><td><div class=\"dni-plaintext\"><pre>False</pre></div></td></tr><tr><td>UserInfo</td><td><div class=\"dni-plaintext\"><pre></pre></div></td></tr></tbody></table></div></details></td></tr><tr><td>EndsWithFooBar</td><td><div class=\"dni-plaintext\"><pre>True</pre></div></td></tr></tbody></table></div></details></td></tr><tr><td>1</td><td><details class=\"dni-treeview\"><summary><span class=\"dni-code-hint\"><code>{ Url = http://example.com/foo/bar/baz/, EndsWithFooBar = False }</code></span></summary><div><table><thead><tr></tr></thead><tbody><tr><td>Url</td><td><details class=\"dni-treeview\"><summary><span class=\"dni-code-hint\"><code>http://example.com/foo/bar/baz/</code></span></summary><div><table><thead><tr></tr></thead><tbody><tr><td>AbsolutePath</td><td><div class=\"dni-plaintext\"><pre>/foo/bar/baz/</pre></div></td></tr><tr><td>AbsoluteUri</td><td><div class=\"dni-plaintext\"><pre>http://example.com/foo/bar/baz/</pre></div></td></tr><tr><td>LocalPath</td><td><div class=\"dni-plaintext\"><pre>/foo/bar/baz/</pre></div></td></tr><tr><td>Authority</td><td><div class=\"dni-plaintext\"><pre>example.com</pre></div></td></tr><tr><td>HostNameType</td><td><span>Dns</span></td></tr><tr><td>IsDefaultPort</td><td><div class=\"dni-plaintext\"><pre>True</pre></div></td></tr><tr><td>IsFile</td><td><div class=\"dni-plaintext\"><pre>False</pre></div></td></tr><tr><td>IsLoopback</td><td><div class=\"dni-plaintext\"><pre>False</pre></div></td></tr><tr><td>PathAndQuery</td><td><div class=\"dni-plaintext\"><pre>/foo/bar/baz/</pre></div></td></tr><tr><td>Segments</td><td><div class=\"dni-plaintext\"><pre>[ /, foo/, bar/, baz/ ]</pre></div></td></tr><tr><td>IsUnc</td><td><div class=\"dni-plaintext\"><pre>False</pre></div></td></tr><tr><td>Host</td><td><div class=\"dni-plaintext\"><pre>example.com</pre></div></td></tr><tr><td>Port</td><td><div class=\"dni-plaintext\"><pre>80</pre></div></td></tr><tr><td>Query</td><td><div class=\"dni-plaintext\"><pre></pre></div></td></tr><tr><td>Fragment</td><td><div class=\"dni-plaintext\"><pre></pre></div></td></tr><tr><td>Scheme</td><td><div class=\"dni-plaintext\"><pre>http</pre></div></td></tr><tr><td>OriginalString</td><td><div class=\"dni-plaintext\"><pre>http://example.com/foo/bar/baz/</pre></div></td></tr><tr><td>DnsSafeHost</td><td><div class=\"dni-plaintext\"><pre>example.com</pre></div></td></tr><tr><td>IdnHost</td><td><div class=\"dni-plaintext\"><pre>example.com</pre></div></td></tr><tr><td>IsAbsoluteUri</td><td><div class=\"dni-plaintext\"><pre>True</pre></div></td></tr><tr><td>UserEscaped</td><td><div class=\"dni-plaintext\"><pre>False</pre></div></td></tr><tr><td>UserInfo</td><td><div class=\"dni-plaintext\"><pre></pre></div></td></tr></tbody></table></div></details></td></tr><tr><td>EndsWithFooBar</td><td><div class=\"dni-plaintext\"><pre>False</pre></div></td></tr></tbody></table></div></details></td></tr></tbody></table><style>\r\n",
       ".dni-code-hint {\r\n",
       "    font-style: italic;\r\n",
       "    overflow: hidden;\r\n",
       "    white-space: nowrap;\r\n",
       "}\r\n",
       ".dni-treeview {\r\n",
       "    white-space: nowrap;\r\n",
       "}\r\n",
       ".dni-treeview td {\r\n",
       "    vertical-align: top;\r\n",
       "    text-align: start;\r\n",
       "}\r\n",
       "details.dni-treeview {\r\n",
       "    padding-left: 1em;\r\n",
       "}\r\n",
       "table td {\r\n",
       "    text-align: start;\r\n",
       "}\r\n",
       "table tr { \r\n",
       "    vertical-align: top; \r\n",
       "    margin: 0em 0px;\r\n",
       "}\r\n",
       "table tr td pre \r\n",
       "{ \r\n",
       "    vertical-align: top !important; \r\n",
       "    margin: 0em 0px !important;\r\n",
       "} \r\n",
       "table th {\r\n",
       "    text-align: start;\r\n",
       "}\r\n",
       "</style>"
      ]
     },
     "metadata": {},
     "output_type": "display_data"
    }
   ],
   "source": [
    "from url in new[]\n",
    "{\n",
    "    \"http://example.com/foo/bar/\",\n",
    "    \"http://example.com/foo/bar/baz/\",\n",
    "}\n",
    "select new Uri(url) into url\n",
    "select new\n",
    "{\n",
    "    Url = url,\n",
    "    EndsWithFooBar = url.Segments.EndsWith(new[] { \"foo/\", \"bar/\" }),\n",
    "}"
   ]
  },
  {
   "cell_type": "markdown",
   "metadata": {},
   "source": [
    "For more details, [see the documentation][doc].\n",
    "\n",
    "\n",
    "[doc]: https://morelinq.github.io/3.1/ref/api/html/Overload_MoreLinq_MoreEnumerable_EndsWith.htm"
   ]
  }
 ],
 "metadata": {
  "language_info": {
   "name": "csharp"
  }
 },
 "nbformat": 4,
 "nbformat_minor": 2
}
