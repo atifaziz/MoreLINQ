{
 "cells": [
  {
   "cell_type": "markdown",
   "metadata": {},
   "source": [
    "# Aggregate\n",
    "\n",
    "Applies multiple accumulators sequentially in a single pass over a sequence.\n",
    "\n",
    "In the example below, `Aggregate` is used to run the following seven\n",
    "accumulators:\n",
    "\n",
    "- sum of all numbers\n",
    "- sum of even numbers\n",
    "- count of numbers\n",
    "- smallest number\n",
    "- largest number\n",
    "- distinct number of digits across all numbers\n",
    "- list of numbers\n",
    "\n",
    "concurrently, and in a single pass, over a sequence of integers:"
   ]
  },
  {
   "cell_type": "code",
   "execution_count": 1,
   "metadata": {
    "dotnet_interactive": {
     "language": "csharp"
    },
    "polyglot_notebook": {
     "kernelName": "csharp"
    },
    "vscode": {
     "languageId": "polyglot-notebook"
    }
   },
   "outputs": [
    {
     "data": {
      "text/html": [
       "<div><div></div><div></div><div><strong>Installed Packages</strong><ul><li><span>morelinq, 4.0.0</span></li></ul></div></div>"
      ]
     },
     "metadata": {},
     "output_type": "display_data"
    },
    {
     "data": {
      "text/html": [
       "<details open=\"open\" class=\"dni-treeview\"><summary><span class=\"dni-code-hint\"><code>{ Sum = 55, EvenSum = 30, Count = 10, Average = 5.5, Min = 1, Max = 10, UniqueLengths = System.Collections.Generic.HashSet`1[System.Int32], Items = System.Collections.Generic.List`1[System.ValueTuple`2[System.Int32,System.String]] }</code></span></summary><div><table><thead><tr></tr></thead><tbody><tr><td>Sum</td><td><div class=\"dni-plaintext\"><pre>55</pre></div></td></tr><tr><td>EvenSum</td><td><div class=\"dni-plaintext\"><pre>30</pre></div></td></tr><tr><td>Count</td><td><div class=\"dni-plaintext\"><pre>10</pre></div></td></tr><tr><td>Average</td><td><div class=\"dni-plaintext\"><pre>5.5</pre></div></td></tr><tr><td>Min</td><td><div class=\"dni-plaintext\"><pre>1</pre></div></td></tr><tr><td>Max</td><td><div class=\"dni-plaintext\"><pre>10</pre></div></td></tr><tr><td>UniqueLengths</td><td><details class=\"dni-treeview\"><summary><span class=\"dni-code-hint\"><code>[ 1, 2 ]</code></span></summary><div><table><thead><tr></tr></thead><tbody><tr><td>Count</td><td><div class=\"dni-plaintext\"><pre>2</pre></div></td></tr><tr><td>Comparer</td><td><details class=\"dni-treeview\"><summary><span class=\"dni-code-hint\"><code>System.Collections.Generic.GenericEqualityComparer`1[System.Int32]</code></span></summary><div><table><thead><tr></tr></thead><tbody></tbody></table></div></details></td></tr><tr><td><i>(values)</i></td><td><div class=\"dni-plaintext\"><pre>[ 1, 2 ]</pre></div></td></tr></tbody></table></div></details></td></tr><tr><td>Items</td><td><table><thead><tr><th><i>index</i></th><th>value</th></tr></thead><tbody><tr><td>0</td><td><details class=\"dni-treeview\"><summary><span class=\"dni-code-hint\"><code>(5, 5)</code></span></summary><div><table><thead><tr></tr></thead><tbody><tr><td>Item1</td><td><div class=\"dni-plaintext\"><pre>5</pre></div></td></tr><tr><td>Item2</td><td><div class=\"dni-plaintext\"><pre>5</pre></div></td></tr></tbody></table></div></details></td></tr><tr><td>1</td><td><details class=\"dni-treeview\"><summary><span class=\"dni-code-hint\"><code>(10, 10)</code></span></summary><div><table><thead><tr></tr></thead><tbody><tr><td>Item1</td><td><div class=\"dni-plaintext\"><pre>10</pre></div></td></tr><tr><td>Item2</td><td><div class=\"dni-plaintext\"><pre>10</pre></div></td></tr></tbody></table></div></details></td></tr><tr><td>2</td><td><details class=\"dni-treeview\"><summary><span class=\"dni-code-hint\"><code>(2, 2)</code></span></summary><div><table><thead><tr></tr></thead><tbody><tr><td>Item1</td><td><div class=\"dni-plaintext\"><pre>2</pre></div></td></tr><tr><td>Item2</td><td><div class=\"dni-plaintext\"><pre>2</pre></div></td></tr></tbody></table></div></details></td></tr><tr><td>3</td><td><details class=\"dni-treeview\"><summary><span class=\"dni-code-hint\"><code>(9, 9)</code></span></summary><div><table><thead><tr></tr></thead><tbody><tr><td>Item1</td><td><div class=\"dni-plaintext\"><pre>9</pre></div></td></tr><tr><td>Item2</td><td><div class=\"dni-plaintext\"><pre>9</pre></div></td></tr></tbody></table></div></details></td></tr><tr><td>4</td><td><details class=\"dni-treeview\"><summary><span class=\"dni-code-hint\"><code>(1, 1)</code></span></summary><div><table><thead><tr></tr></thead><tbody><tr><td>Item1</td><td><div class=\"dni-plaintext\"><pre>1</pre></div></td></tr><tr><td>Item2</td><td><div class=\"dni-plaintext\"><pre>1</pre></div></td></tr></tbody></table></div></details></td></tr><tr><td>5</td><td><details class=\"dni-treeview\"><summary><span class=\"dni-code-hint\"><code>(4, 4)</code></span></summary><div><table><thead><tr></tr></thead><tbody><tr><td>Item1</td><td><div class=\"dni-plaintext\"><pre>4</pre></div></td></tr><tr><td>Item2</td><td><div class=\"dni-plaintext\"><pre>4</pre></div></td></tr></tbody></table></div></details></td></tr><tr><td>6</td><td><details class=\"dni-treeview\"><summary><span class=\"dni-code-hint\"><code>(8, 8)</code></span></summary><div><table><thead><tr></tr></thead><tbody><tr><td>Item1</td><td><div class=\"dni-plaintext\"><pre>8</pre></div></td></tr><tr><td>Item2</td><td><div class=\"dni-plaintext\"><pre>8</pre></div></td></tr></tbody></table></div></details></td></tr><tr><td>7</td><td><details class=\"dni-treeview\"><summary><span class=\"dni-code-hint\"><code>(7, 7)</code></span></summary><div><table><thead><tr></tr></thead><tbody><tr><td>Item1</td><td><div class=\"dni-plaintext\"><pre>7</pre></div></td></tr><tr><td>Item2</td><td><div class=\"dni-plaintext\"><pre>7</pre></div></td></tr></tbody></table></div></details></td></tr><tr><td>8</td><td><details class=\"dni-treeview\"><summary><span class=\"dni-code-hint\"><code>(3, 3)</code></span></summary><div><table><thead><tr></tr></thead><tbody><tr><td>Item1</td><td><div class=\"dni-plaintext\"><pre>3</pre></div></td></tr><tr><td>Item2</td><td><div class=\"dni-plaintext\"><pre>3</pre></div></td></tr></tbody></table></div></details></td></tr><tr><td>9</td><td><details class=\"dni-treeview\"><summary><span class=\"dni-code-hint\"><code>(6, 6)</code></span></summary><div><table><thead><tr></tr></thead><tbody><tr><td>Item1</td><td><div class=\"dni-plaintext\"><pre>6</pre></div></td></tr><tr><td>Item2</td><td><div class=\"dni-plaintext\"><pre>6</pre></div></td></tr></tbody></table></div></details></td></tr></tbody></table></td></tr></tbody></table></div></details><style>\r\n",
       ".dni-code-hint {\r\n",
       "    font-style: italic;\r\n",
       "    overflow: hidden;\r\n",
       "    white-space: nowrap;\r\n",
       "}\r\n",
       ".dni-treeview {\r\n",
       "    white-space: nowrap;\r\n",
       "}\r\n",
       ".dni-treeview td {\r\n",
       "    vertical-align: top;\r\n",
       "    text-align: start;\r\n",
       "}\r\n",
       "details.dni-treeview {\r\n",
       "    padding-left: 1em;\r\n",
       "}\r\n",
       "table td {\r\n",
       "    text-align: start;\r\n",
       "}\r\n",
       "table tr { \r\n",
       "    vertical-align: top; \r\n",
       "    margin: 0em 0px;\r\n",
       "}\r\n",
       "table tr td pre \r\n",
       "{ \r\n",
       "    vertical-align: top !important; \r\n",
       "    margin: 0em 0px !important;\r\n",
       "} \r\n",
       "table th {\r\n",
       "    text-align: start;\r\n",
       "}\r\n",
       "</style>"
      ]
     },
     "metadata": {},
     "output_type": "display_data"
    }
   ],
   "source": [
    "#r \"nuget: morelinq, 4.0.0\"\n",
    "\n",
    "using System.Globalization;\n",
    "using MoreLinq;\n",
    "using static System.Console;\n",
    "\n",
    "Enumerable\n",
    "    .Range(1, 10)\n",
    "    .Shuffle()\n",
    "    .Select(n => new { Num = n, Str = n.ToString(CultureInfo.InvariantCulture) })\n",
    "    .Aggregate(\n",
    "        0, (s, e) => s + e.Num,\n",
    "        0, (s, e) => e.Num % 2 == 0 ? s + e.Num : s,\n",
    "        0, (s, _) => s + 1,\n",
    "        (int?)null, (s, e) => s is int n ? Math.Min(n, e.Num) : e.Num,\n",
    "        (int?)null, (s, e) => s is int n ? Math.Max(n, e.Num) : e.Num,\n",
    "        new HashSet<int>(), (s, e) => { s.Add(e.Str.Length); return s; },\n",
    "        new List<(int, string)>(), (s, e) => { s.Add((e.Num, e.Str)); return s; },\n",
    "        (sum, esum, count, min, max, lengths, items) => new\n",
    "        {\n",
    "            Sum           = sum,\n",
    "            EvenSum       = esum,\n",
    "            Count         = count,\n",
    "            Average       = (double)sum / count,\n",
    "            Min           = min is int mn ? mn : throw new InvalidOperationException(),\n",
    "            Max           = max is int mx ? mx : throw new InvalidOperationException(),\n",
    "            UniqueLengths = lengths,\n",
    "            Items         = items,\n",
    "        })"
   ]
  },
  {
   "cell_type": "markdown",
   "metadata": {},
   "source": [
    "Writing each aggregator this way can be tedious, repetitive and error-prone\n",
    "because you cannot, for example, reuse [`Enumerable.Sum`][sum] but there is a\n",
    "set of [_experimental overloads_][exp] (that live in the\n",
    "[`MoreLinq.Experimental` namespace][expns]) that allow aggregators to be\n",
    "written as _reactive comprehensions_. This enables you to use aggregators from\n",
    "[System.Reactive]. The next example is logically the same as the previous,\n",
    "except it uses the overload where aggregators from System.Reactive are reused.\n",
    "\n",
    "\n",
    "[sum]: https://docs.microsoft.com/en-us/dotnet/api/system.linq.enumerable.sum\n",
    "[expns]: https://morelinq.github.io/3.2/ref/api/html/N_MoreLinq_Experimental.htm\n",
    "[exp]: https://morelinq.github.io/3.2/ref/api/html/Overload_MoreLinq_Experimental_ExperimentalEnumerable_Aggregate.htm\n",
    "[System.Reactive]: https://www.nuget.org/packages/System.Reactive/"
   ]
  },
  {
   "cell_type": "code",
   "execution_count": 2,
   "metadata": {
    "dotnet_interactive": {
     "language": "csharp"
    },
    "polyglot_notebook": {
     "kernelName": "csharp"
    },
    "vscode": {
     "languageId": "polyglot-notebook"
    }
   },
   "outputs": [
    {
     "data": {
      "text/html": [
       "<div><div></div><div></div><div><strong>Installed Packages</strong><ul><li><span>System.Reactive, 6.0.0</span></li></ul></div></div>"
      ]
     },
     "metadata": {},
     "output_type": "display_data"
    },
    {
     "data": {
      "text/html": [
       "<details open=\"open\" class=\"dni-treeview\"><summary><span class=\"dni-code-hint\"><code>{ Sum = 55, EvenSum = 30, Count = 10, Average = 5.5, Min = 1, Max = 10, UniqueLengths = System.Int32[], Items = System.Collections.Generic.List`1[&lt;&gt;f__AnonymousType0#1`2[System.Int32,System.String]] }</code></span></summary><div><table><thead><tr></tr></thead><tbody><tr><td>Sum</td><td><div class=\"dni-plaintext\"><pre>55</pre></div></td></tr><tr><td>EvenSum</td><td><div class=\"dni-plaintext\"><pre>30</pre></div></td></tr><tr><td>Count</td><td><div class=\"dni-plaintext\"><pre>10</pre></div></td></tr><tr><td>Average</td><td><div class=\"dni-plaintext\"><pre>5.5</pre></div></td></tr><tr><td>Min</td><td><div class=\"dni-plaintext\"><pre>1</pre></div></td></tr><tr><td>Max</td><td><div class=\"dni-plaintext\"><pre>10</pre></div></td></tr><tr><td>UniqueLengths</td><td><div class=\"dni-plaintext\"><pre>[ 1, 2 ]</pre></div></td></tr><tr><td>Items</td><td><table><thead><tr><th><i>index</i></th><th>value</th></tr></thead><tbody><tr><td>0</td><td><details class=\"dni-treeview\"><summary><span class=\"dni-code-hint\"><code>{ Num = 1, Str = 1 }</code></span></summary><div><table><thead><tr></tr></thead><tbody><tr><td>Num</td><td><div class=\"dni-plaintext\"><pre>1</pre></div></td></tr><tr><td>Str</td><td><div class=\"dni-plaintext\"><pre>1</pre></div></td></tr></tbody></table></div></details></td></tr><tr><td>1</td><td><details class=\"dni-treeview\"><summary><span class=\"dni-code-hint\"><code>{ Num = 9, Str = 9 }</code></span></summary><div><table><thead><tr></tr></thead><tbody><tr><td>Num</td><td><div class=\"dni-plaintext\"><pre>9</pre></div></td></tr><tr><td>Str</td><td><div class=\"dni-plaintext\"><pre>9</pre></div></td></tr></tbody></table></div></details></td></tr><tr><td>2</td><td><details class=\"dni-treeview\"><summary><span class=\"dni-code-hint\"><code>{ Num = 4, Str = 4 }</code></span></summary><div><table><thead><tr></tr></thead><tbody><tr><td>Num</td><td><div class=\"dni-plaintext\"><pre>4</pre></div></td></tr><tr><td>Str</td><td><div class=\"dni-plaintext\"><pre>4</pre></div></td></tr></tbody></table></div></details></td></tr><tr><td>3</td><td><details class=\"dni-treeview\"><summary><span class=\"dni-code-hint\"><code>{ Num = 5, Str = 5 }</code></span></summary><div><table><thead><tr></tr></thead><tbody><tr><td>Num</td><td><div class=\"dni-plaintext\"><pre>5</pre></div></td></tr><tr><td>Str</td><td><div class=\"dni-plaintext\"><pre>5</pre></div></td></tr></tbody></table></div></details></td></tr><tr><td>4</td><td><details class=\"dni-treeview\"><summary><span class=\"dni-code-hint\"><code>{ Num = 8, Str = 8 }</code></span></summary><div><table><thead><tr></tr></thead><tbody><tr><td>Num</td><td><div class=\"dni-plaintext\"><pre>8</pre></div></td></tr><tr><td>Str</td><td><div class=\"dni-plaintext\"><pre>8</pre></div></td></tr></tbody></table></div></details></td></tr><tr><td>5</td><td><details class=\"dni-treeview\"><summary><span class=\"dni-code-hint\"><code>{ Num = 7, Str = 7 }</code></span></summary><div><table><thead><tr></tr></thead><tbody><tr><td>Num</td><td><div class=\"dni-plaintext\"><pre>7</pre></div></td></tr><tr><td>Str</td><td><div class=\"dni-plaintext\"><pre>7</pre></div></td></tr></tbody></table></div></details></td></tr><tr><td>6</td><td><details class=\"dni-treeview\"><summary><span class=\"dni-code-hint\"><code>{ Num = 10, Str = 10 }</code></span></summary><div><table><thead><tr></tr></thead><tbody><tr><td>Num</td><td><div class=\"dni-plaintext\"><pre>10</pre></div></td></tr><tr><td>Str</td><td><div class=\"dni-plaintext\"><pre>10</pre></div></td></tr></tbody></table></div></details></td></tr><tr><td>7</td><td><details class=\"dni-treeview\"><summary><span class=\"dni-code-hint\"><code>{ Num = 6, Str = 6 }</code></span></summary><div><table><thead><tr></tr></thead><tbody><tr><td>Num</td><td><div class=\"dni-plaintext\"><pre>6</pre></div></td></tr><tr><td>Str</td><td><div class=\"dni-plaintext\"><pre>6</pre></div></td></tr></tbody></table></div></details></td></tr><tr><td>8</td><td><details class=\"dni-treeview\"><summary><span class=\"dni-code-hint\"><code>{ Num = 2, Str = 2 }</code></span></summary><div><table><thead><tr></tr></thead><tbody><tr><td>Num</td><td><div class=\"dni-plaintext\"><pre>2</pre></div></td></tr><tr><td>Str</td><td><div class=\"dni-plaintext\"><pre>2</pre></div></td></tr></tbody></table></div></details></td></tr><tr><td>9</td><td><details class=\"dni-treeview\"><summary><span class=\"dni-code-hint\"><code>{ Num = 3, Str = 3 }</code></span></summary><div><table><thead><tr></tr></thead><tbody><tr><td>Num</td><td><div class=\"dni-plaintext\"><pre>3</pre></div></td></tr><tr><td>Str</td><td><div class=\"dni-plaintext\"><pre>3</pre></div></td></tr></tbody></table></div></details></td></tr></tbody></table></td></tr></tbody></table></div></details><style>\r\n",
       ".dni-code-hint {\r\n",
       "    font-style: italic;\r\n",
       "    overflow: hidden;\r\n",
       "    white-space: nowrap;\r\n",
       "}\r\n",
       ".dni-treeview {\r\n",
       "    white-space: nowrap;\r\n",
       "}\r\n",
       ".dni-treeview td {\r\n",
       "    vertical-align: top;\r\n",
       "    text-align: start;\r\n",
       "}\r\n",
       "details.dni-treeview {\r\n",
       "    padding-left: 1em;\r\n",
       "}\r\n",
       "table td {\r\n",
       "    text-align: start;\r\n",
       "}\r\n",
       "table tr { \r\n",
       "    vertical-align: top; \r\n",
       "    margin: 0em 0px;\r\n",
       "}\r\n",
       "table tr td pre \r\n",
       "{ \r\n",
       "    vertical-align: top !important; \r\n",
       "    margin: 0em 0px !important;\r\n",
       "} \r\n",
       "table th {\r\n",
       "    text-align: start;\r\n",
       "}\r\n",
       "</style>"
      ]
     },
     "metadata": {},
     "output_type": "display_data"
    }
   ],
   "source": [
    "#r \"nuget: System.Reactive, 6.0.0\"\n",
    "\n",
    "using System.Reactive.Linq;\n",
    "using MoreLinq.Experimental;\n",
    "\n",
    "Enumerable\n",
    "    .Range(1, 10)\n",
    "    .Shuffle()\n",
    "    .Select(n => new { Num = n, Str = n.ToString(CultureInfo.InvariantCulture) })\n",
    "    .Aggregate(\n",
    "        s => s.Sum(e => e.Num),\n",
    "        s => s.Select(e => e.Num).Where(n => n % 2 == 0).Sum(),\n",
    "        s => s.Count(),\n",
    "        s => s.Min(e => e.Num),\n",
    "        s => s.Max(e => e.Num),\n",
    "        s => s.Select(e => e.Str.Length).Distinct().ToArray(),\n",
    "        s => s.ToList(),\n",
    "        (sum, esum, count, min, max, lengths, items) => new\n",
    "        {\n",
    "            Sum           = sum,\n",
    "            EvenSum       = esum,\n",
    "            Count         = count,\n",
    "            Average       = (double)sum / count,\n",
    "            Min           = min,\n",
    "            Max           = max,\n",
    "            UniqueLengths = lengths,\n",
    "            Items         = items,\n",
    "        })"
   ]
  },
  {
   "cell_type": "markdown",
   "metadata": {},
   "source": [
    "For more details, [see the documentation][doc].\n",
    "\n",
    "\n",
    "[doc]: https://morelinq.github.io/3.2/ref/api/html/Overload_MoreLinq_MoreEnumerable_Aggregate.htm"
   ]
  }
 ],
 "metadata": {
  "language_info": {
   "name": "csharp"
  }
 },
 "nbformat": 4,
 "nbformat_minor": 2
}
